{
  "cells": [
    {
      "cell_type": "markdown",
      "metadata": {
        "id": "H9wADwK78DCz"
      },
      "source": [
        "# Proyek Analisis Data: [E-Commerce Public Dataset]\n",
        "- **Nama:** [Rivaldi Lukman]\n",
        "- **Email:** [rivaldilukman6@gmail.com]\n",
        "- **ID Dicoding:** [rivaldiluk]"
      ]
    },
    {
      "cell_type": "markdown",
      "metadata": {
        "id": "eE0raob58DC0"
      },
      "source": [
        "## Menentukan Pertanyaan Bisnis"
      ]
    },
    {
      "cell_type": "markdown",
      "metadata": {
        "id": "GmQeQ5YF8DC0"
      },
      "source": [
        "- Pertanyaan 1 : Kategori produk mana yang menghasilkan pendapatan paling banyak?\n",
        "- Pertanyaan 2 : Apa hubungan antara ulasan pelanggan dan volume pembelian?"
      ]
    },
    {
      "cell_type": "markdown",
      "metadata": {
        "id": "H-z4QGlO8DC1"
      },
      "source": [
        "## Import Semua Packages/Library yang Digunakan"
      ]
    },
    {
      "cell_type": "code",
      "execution_count": 1,
      "metadata": {
        "id": "FVYwaObI8DC1",
        "colab": {
          "base_uri": "https://localhost:8080/"
        },
        "outputId": "bdf24a53-27aa-457d-ebcf-393816736ea6"
      },
      "outputs": [
        {
          "output_type": "stream",
          "name": "stdout",
          "text": [
            "Mounted at /content/drive\n"
          ]
        }
      ],
      "source": [
        "from google.colab import drive\n",
        "drive.mount('/content/drive')"
      ]
    },
    {
      "cell_type": "code",
      "source": [
        "import pandas as pd\n",
        "import numpy as np\n",
        "import matplotlib.pyplot as plt\n",
        "import seaborn as sns\n",
        "from scipy import stats\n",
        "import folium\n",
        "from folium.plugins import HeatMap\n",
        "plt.style.use('seaborn-whitegrid')\n",
        "sns.set(style=\"whitegrid\")\n",
        "import warnings\n",
        "warnings.filterwarnings(\"ignore\")"
      ],
      "metadata": {
        "colab": {
          "base_uri": "https://localhost:8080/"
        },
        "id": "z9mqL1qAY-7-",
        "outputId": "303b41e2-4dc2-4995-867a-f1f5484e5f4a"
      },
      "execution_count": 2,
      "outputs": [
        {
          "output_type": "stream",
          "name": "stderr",
          "text": [
            "<ipython-input-2-cb556210498c>:8: MatplotlibDeprecationWarning: The seaborn styles shipped by Matplotlib are deprecated since 3.6, as they no longer correspond to the styles shipped by seaborn. However, they will remain available as 'seaborn-v0_8-<style>'. Alternatively, directly use the seaborn API instead.\n",
            "  plt.style.use('seaborn-whitegrid')\n"
          ]
        }
      ]
    },
    {
      "cell_type": "markdown",
      "metadata": {
        "id": "h_Sh51Xy8DC1"
      },
      "source": [
        "## Data Wrangling"
      ]
    },
    {
      "cell_type": "markdown",
      "metadata": {
        "id": "sXU2GBYu8DC1"
      },
      "source": [
        "### Gathering Data"
      ]
    },
    {
      "cell_type": "code",
      "execution_count": 3,
      "metadata": {
        "id": "zjCBk1BI8DC1",
        "colab": {
          "base_uri": "https://localhost:8080/",
          "height": 226
        },
        "outputId": "25cbb692-a84b-4694-cd38-3586c4673105"
      },
      "outputs": [
        {
          "output_type": "execute_result",
          "data": {
            "text/plain": [
              "                           order_id                       customer_id  \\\n",
              "0  e481f51cbdc54678b7cc49136f2d6af7  9ef432eb6251297304e76186b10a928d   \n",
              "1  53cdb2fc8bc7dce0b6741e2150273451  b0830fb4747a6c6d20dea0b8c802d7ef   \n",
              "2  47770eb9100c2d0c44946d9cf07ec65d  41ce2a54c0b03bf3443c3d931a367089   \n",
              "3  949d5b44dbf5de918fe9c16f97b45f8a  f88197465ea7920adcdbec7375364d82   \n",
              "4  ad21c59c0840e6cb83a9ceb5573f8159  8ab97904e6daea8866dbdbc4fb7aad2c   \n",
              "\n",
              "  order_status order_purchase_timestamp    order_approved_at  \\\n",
              "0    delivered      2017-10-02 10:56:33  2017-10-02 11:07:15   \n",
              "1    delivered      2018-07-24 20:41:37  2018-07-26 03:24:27   \n",
              "2    delivered      2018-08-08 08:38:49  2018-08-08 08:55:23   \n",
              "3    delivered      2017-11-18 19:28:06  2017-11-18 19:45:59   \n",
              "4    delivered      2018-02-13 21:18:39  2018-02-13 22:20:29   \n",
              "\n",
              "  order_delivered_carrier_date order_delivered_customer_date  \\\n",
              "0          2017-10-04 19:55:00           2017-10-10 21:25:13   \n",
              "1          2018-07-26 14:31:00           2018-08-07 15:27:45   \n",
              "2          2018-08-08 13:50:00           2018-08-17 18:06:29   \n",
              "3          2017-11-22 13:39:59           2017-12-02 00:28:42   \n",
              "4          2018-02-14 19:46:34           2018-02-16 18:17:02   \n",
              "\n",
              "  order_estimated_delivery_date  \n",
              "0           2017-10-18 00:00:00  \n",
              "1           2018-08-13 00:00:00  \n",
              "2           2018-09-04 00:00:00  \n",
              "3           2017-12-15 00:00:00  \n",
              "4           2018-02-26 00:00:00  "
            ],
            "text/html": [
              "\n",
              "  <div id=\"df-f798c132-c050-456f-ab9c-4b5d8c8c11be\" class=\"colab-df-container\">\n",
              "    <div>\n",
              "<style scoped>\n",
              "    .dataframe tbody tr th:only-of-type {\n",
              "        vertical-align: middle;\n",
              "    }\n",
              "\n",
              "    .dataframe tbody tr th {\n",
              "        vertical-align: top;\n",
              "    }\n",
              "\n",
              "    .dataframe thead th {\n",
              "        text-align: right;\n",
              "    }\n",
              "</style>\n",
              "<table border=\"1\" class=\"dataframe\">\n",
              "  <thead>\n",
              "    <tr style=\"text-align: right;\">\n",
              "      <th></th>\n",
              "      <th>order_id</th>\n",
              "      <th>customer_id</th>\n",
              "      <th>order_status</th>\n",
              "      <th>order_purchase_timestamp</th>\n",
              "      <th>order_approved_at</th>\n",
              "      <th>order_delivered_carrier_date</th>\n",
              "      <th>order_delivered_customer_date</th>\n",
              "      <th>order_estimated_delivery_date</th>\n",
              "    </tr>\n",
              "  </thead>\n",
              "  <tbody>\n",
              "    <tr>\n",
              "      <th>0</th>\n",
              "      <td>e481f51cbdc54678b7cc49136f2d6af7</td>\n",
              "      <td>9ef432eb6251297304e76186b10a928d</td>\n",
              "      <td>delivered</td>\n",
              "      <td>2017-10-02 10:56:33</td>\n",
              "      <td>2017-10-02 11:07:15</td>\n",
              "      <td>2017-10-04 19:55:00</td>\n",
              "      <td>2017-10-10 21:25:13</td>\n",
              "      <td>2017-10-18 00:00:00</td>\n",
              "    </tr>\n",
              "    <tr>\n",
              "      <th>1</th>\n",
              "      <td>53cdb2fc8bc7dce0b6741e2150273451</td>\n",
              "      <td>b0830fb4747a6c6d20dea0b8c802d7ef</td>\n",
              "      <td>delivered</td>\n",
              "      <td>2018-07-24 20:41:37</td>\n",
              "      <td>2018-07-26 03:24:27</td>\n",
              "      <td>2018-07-26 14:31:00</td>\n",
              "      <td>2018-08-07 15:27:45</td>\n",
              "      <td>2018-08-13 00:00:00</td>\n",
              "    </tr>\n",
              "    <tr>\n",
              "      <th>2</th>\n",
              "      <td>47770eb9100c2d0c44946d9cf07ec65d</td>\n",
              "      <td>41ce2a54c0b03bf3443c3d931a367089</td>\n",
              "      <td>delivered</td>\n",
              "      <td>2018-08-08 08:38:49</td>\n",
              "      <td>2018-08-08 08:55:23</td>\n",
              "      <td>2018-08-08 13:50:00</td>\n",
              "      <td>2018-08-17 18:06:29</td>\n",
              "      <td>2018-09-04 00:00:00</td>\n",
              "    </tr>\n",
              "    <tr>\n",
              "      <th>3</th>\n",
              "      <td>949d5b44dbf5de918fe9c16f97b45f8a</td>\n",
              "      <td>f88197465ea7920adcdbec7375364d82</td>\n",
              "      <td>delivered</td>\n",
              "      <td>2017-11-18 19:28:06</td>\n",
              "      <td>2017-11-18 19:45:59</td>\n",
              "      <td>2017-11-22 13:39:59</td>\n",
              "      <td>2017-12-02 00:28:42</td>\n",
              "      <td>2017-12-15 00:00:00</td>\n",
              "    </tr>\n",
              "    <tr>\n",
              "      <th>4</th>\n",
              "      <td>ad21c59c0840e6cb83a9ceb5573f8159</td>\n",
              "      <td>8ab97904e6daea8866dbdbc4fb7aad2c</td>\n",
              "      <td>delivered</td>\n",
              "      <td>2018-02-13 21:18:39</td>\n",
              "      <td>2018-02-13 22:20:29</td>\n",
              "      <td>2018-02-14 19:46:34</td>\n",
              "      <td>2018-02-16 18:17:02</td>\n",
              "      <td>2018-02-26 00:00:00</td>\n",
              "    </tr>\n",
              "  </tbody>\n",
              "</table>\n",
              "</div>\n",
              "    <div class=\"colab-df-buttons\">\n",
              "\n",
              "  <div class=\"colab-df-container\">\n",
              "    <button class=\"colab-df-convert\" onclick=\"convertToInteractive('df-f798c132-c050-456f-ab9c-4b5d8c8c11be')\"\n",
              "            title=\"Convert this dataframe to an interactive table.\"\n",
              "            style=\"display:none;\">\n",
              "\n",
              "  <svg xmlns=\"http://www.w3.org/2000/svg\" height=\"24px\" viewBox=\"0 -960 960 960\">\n",
              "    <path d=\"M120-120v-720h720v720H120Zm60-500h600v-160H180v160Zm220 220h160v-160H400v160Zm0 220h160v-160H400v160ZM180-400h160v-160H180v160Zm440 0h160v-160H620v160ZM180-180h160v-160H180v160Zm440 0h160v-160H620v160Z\"/>\n",
              "  </svg>\n",
              "    </button>\n",
              "\n",
              "  <style>\n",
              "    .colab-df-container {\n",
              "      display:flex;\n",
              "      gap: 12px;\n",
              "    }\n",
              "\n",
              "    .colab-df-convert {\n",
              "      background-color: #E8F0FE;\n",
              "      border: none;\n",
              "      border-radius: 50%;\n",
              "      cursor: pointer;\n",
              "      display: none;\n",
              "      fill: #1967D2;\n",
              "      height: 32px;\n",
              "      padding: 0 0 0 0;\n",
              "      width: 32px;\n",
              "    }\n",
              "\n",
              "    .colab-df-convert:hover {\n",
              "      background-color: #E2EBFA;\n",
              "      box-shadow: 0px 1px 2px rgba(60, 64, 67, 0.3), 0px 1px 3px 1px rgba(60, 64, 67, 0.15);\n",
              "      fill: #174EA6;\n",
              "    }\n",
              "\n",
              "    .colab-df-buttons div {\n",
              "      margin-bottom: 4px;\n",
              "    }\n",
              "\n",
              "    [theme=dark] .colab-df-convert {\n",
              "      background-color: #3B4455;\n",
              "      fill: #D2E3FC;\n",
              "    }\n",
              "\n",
              "    [theme=dark] .colab-df-convert:hover {\n",
              "      background-color: #434B5C;\n",
              "      box-shadow: 0px 1px 3px 1px rgba(0, 0, 0, 0.15);\n",
              "      filter: drop-shadow(0px 1px 2px rgba(0, 0, 0, 0.3));\n",
              "      fill: #FFFFFF;\n",
              "    }\n",
              "  </style>\n",
              "\n",
              "    <script>\n",
              "      const buttonEl =\n",
              "        document.querySelector('#df-f798c132-c050-456f-ab9c-4b5d8c8c11be button.colab-df-convert');\n",
              "      buttonEl.style.display =\n",
              "        google.colab.kernel.accessAllowed ? 'block' : 'none';\n",
              "\n",
              "      async function convertToInteractive(key) {\n",
              "        const element = document.querySelector('#df-f798c132-c050-456f-ab9c-4b5d8c8c11be');\n",
              "        const dataTable =\n",
              "          await google.colab.kernel.invokeFunction('convertToInteractive',\n",
              "                                                    [key], {});\n",
              "        if (!dataTable) return;\n",
              "\n",
              "        const docLinkHtml = 'Like what you see? Visit the ' +\n",
              "          '<a target=\"_blank\" href=https://colab.research.google.com/notebooks/data_table.ipynb>data table notebook</a>'\n",
              "          + ' to learn more about interactive tables.';\n",
              "        element.innerHTML = '';\n",
              "        dataTable['output_type'] = 'display_data';\n",
              "        await google.colab.output.renderOutput(dataTable, element);\n",
              "        const docLink = document.createElement('div');\n",
              "        docLink.innerHTML = docLinkHtml;\n",
              "        element.appendChild(docLink);\n",
              "      }\n",
              "    </script>\n",
              "  </div>\n",
              "\n",
              "\n",
              "<div id=\"df-8dd4fad2-e5c3-4a14-a260-2a7fb3554a62\">\n",
              "  <button class=\"colab-df-quickchart\" onclick=\"quickchart('df-8dd4fad2-e5c3-4a14-a260-2a7fb3554a62')\"\n",
              "            title=\"Suggest charts\"\n",
              "            style=\"display:none;\">\n",
              "\n",
              "<svg xmlns=\"http://www.w3.org/2000/svg\" height=\"24px\"viewBox=\"0 0 24 24\"\n",
              "     width=\"24px\">\n",
              "    <g>\n",
              "        <path d=\"M19 3H5c-1.1 0-2 .9-2 2v14c0 1.1.9 2 2 2h14c1.1 0 2-.9 2-2V5c0-1.1-.9-2-2-2zM9 17H7v-7h2v7zm4 0h-2V7h2v10zm4 0h-2v-4h2v4z\"/>\n",
              "    </g>\n",
              "</svg>\n",
              "  </button>\n",
              "\n",
              "<style>\n",
              "  .colab-df-quickchart {\n",
              "      --bg-color: #E8F0FE;\n",
              "      --fill-color: #1967D2;\n",
              "      --hover-bg-color: #E2EBFA;\n",
              "      --hover-fill-color: #174EA6;\n",
              "      --disabled-fill-color: #AAA;\n",
              "      --disabled-bg-color: #DDD;\n",
              "  }\n",
              "\n",
              "  [theme=dark] .colab-df-quickchart {\n",
              "      --bg-color: #3B4455;\n",
              "      --fill-color: #D2E3FC;\n",
              "      --hover-bg-color: #434B5C;\n",
              "      --hover-fill-color: #FFFFFF;\n",
              "      --disabled-bg-color: #3B4455;\n",
              "      --disabled-fill-color: #666;\n",
              "  }\n",
              "\n",
              "  .colab-df-quickchart {\n",
              "    background-color: var(--bg-color);\n",
              "    border: none;\n",
              "    border-radius: 50%;\n",
              "    cursor: pointer;\n",
              "    display: none;\n",
              "    fill: var(--fill-color);\n",
              "    height: 32px;\n",
              "    padding: 0;\n",
              "    width: 32px;\n",
              "  }\n",
              "\n",
              "  .colab-df-quickchart:hover {\n",
              "    background-color: var(--hover-bg-color);\n",
              "    box-shadow: 0 1px 2px rgba(60, 64, 67, 0.3), 0 1px 3px 1px rgba(60, 64, 67, 0.15);\n",
              "    fill: var(--button-hover-fill-color);\n",
              "  }\n",
              "\n",
              "  .colab-df-quickchart-complete:disabled,\n",
              "  .colab-df-quickchart-complete:disabled:hover {\n",
              "    background-color: var(--disabled-bg-color);\n",
              "    fill: var(--disabled-fill-color);\n",
              "    box-shadow: none;\n",
              "  }\n",
              "\n",
              "  .colab-df-spinner {\n",
              "    border: 2px solid var(--fill-color);\n",
              "    border-color: transparent;\n",
              "    border-bottom-color: var(--fill-color);\n",
              "    animation:\n",
              "      spin 1s steps(1) infinite;\n",
              "  }\n",
              "\n",
              "  @keyframes spin {\n",
              "    0% {\n",
              "      border-color: transparent;\n",
              "      border-bottom-color: var(--fill-color);\n",
              "      border-left-color: var(--fill-color);\n",
              "    }\n",
              "    20% {\n",
              "      border-color: transparent;\n",
              "      border-left-color: var(--fill-color);\n",
              "      border-top-color: var(--fill-color);\n",
              "    }\n",
              "    30% {\n",
              "      border-color: transparent;\n",
              "      border-left-color: var(--fill-color);\n",
              "      border-top-color: var(--fill-color);\n",
              "      border-right-color: var(--fill-color);\n",
              "    }\n",
              "    40% {\n",
              "      border-color: transparent;\n",
              "      border-right-color: var(--fill-color);\n",
              "      border-top-color: var(--fill-color);\n",
              "    }\n",
              "    60% {\n",
              "      border-color: transparent;\n",
              "      border-right-color: var(--fill-color);\n",
              "    }\n",
              "    80% {\n",
              "      border-color: transparent;\n",
              "      border-right-color: var(--fill-color);\n",
              "      border-bottom-color: var(--fill-color);\n",
              "    }\n",
              "    90% {\n",
              "      border-color: transparent;\n",
              "      border-bottom-color: var(--fill-color);\n",
              "    }\n",
              "  }\n",
              "</style>\n",
              "\n",
              "  <script>\n",
              "    async function quickchart(key) {\n",
              "      const quickchartButtonEl =\n",
              "        document.querySelector('#' + key + ' button');\n",
              "      quickchartButtonEl.disabled = true;  // To prevent multiple clicks.\n",
              "      quickchartButtonEl.classList.add('colab-df-spinner');\n",
              "      try {\n",
              "        const charts = await google.colab.kernel.invokeFunction(\n",
              "            'suggestCharts', [key], {});\n",
              "      } catch (error) {\n",
              "        console.error('Error during call to suggestCharts:', error);\n",
              "      }\n",
              "      quickchartButtonEl.classList.remove('colab-df-spinner');\n",
              "      quickchartButtonEl.classList.add('colab-df-quickchart-complete');\n",
              "    }\n",
              "    (() => {\n",
              "      let quickchartButtonEl =\n",
              "        document.querySelector('#df-8dd4fad2-e5c3-4a14-a260-2a7fb3554a62 button');\n",
              "      quickchartButtonEl.style.display =\n",
              "        google.colab.kernel.accessAllowed ? 'block' : 'none';\n",
              "    })();\n",
              "  </script>\n",
              "</div>\n",
              "\n",
              "    </div>\n",
              "  </div>\n"
            ],
            "application/vnd.google.colaboratory.intrinsic+json": {
              "type": "dataframe",
              "variable_name": "orders",
              "summary": "{\n  \"name\": \"orders\",\n  \"rows\": 99441,\n  \"fields\": [\n    {\n      \"column\": \"order_id\",\n      \"properties\": {\n        \"dtype\": \"string\",\n        \"num_unique_values\": 99441,\n        \"samples\": [\n          \"b9a6c5f5df52c7226ac85aee7524c27f\",\n          \"261e71d2349c713eafa9f3df5972b95d\",\n          \"67b50899f52995848c427e361e10dde3\"\n        ],\n        \"semantic_type\": \"\",\n        \"description\": \"\"\n      }\n    },\n    {\n      \"column\": \"customer_id\",\n      \"properties\": {\n        \"dtype\": \"string\",\n        \"num_unique_values\": 99441,\n        \"samples\": [\n          \"f160aaf480efdfa7268f0fa535f73e76\",\n          \"d6708bbbd2d419475869a84e41f620a1\",\n          \"1b353c00c71689afba44554e43cc5a76\"\n        ],\n        \"semantic_type\": \"\",\n        \"description\": \"\"\n      }\n    },\n    {\n      \"column\": \"order_status\",\n      \"properties\": {\n        \"dtype\": \"category\",\n        \"num_unique_values\": 8,\n        \"samples\": [\n          \"invoiced\",\n          \"canceled\",\n          \"delivered\"\n        ],\n        \"semantic_type\": \"\",\n        \"description\": \"\"\n      }\n    },\n    {\n      \"column\": \"order_purchase_timestamp\",\n      \"properties\": {\n        \"dtype\": \"object\",\n        \"num_unique_values\": 98875,\n        \"samples\": [\n          \"2017-12-03 02:01:18\",\n          \"2018-05-15 22:52:30\",\n          \"2018-08-22 21:56:07\"\n        ],\n        \"semantic_type\": \"\",\n        \"description\": \"\"\n      }\n    },\n    {\n      \"column\": \"order_approved_at\",\n      \"properties\": {\n        \"dtype\": \"object\",\n        \"num_unique_values\": 90733,\n        \"samples\": [\n          \"2017-05-17 03:55:26\",\n          \"2018-03-04 10:55:33\",\n          \"2017-10-05 02:49:39\"\n        ],\n        \"semantic_type\": \"\",\n        \"description\": \"\"\n      }\n    },\n    {\n      \"column\": \"order_delivered_carrier_date\",\n      \"properties\": {\n        \"dtype\": \"object\",\n        \"num_unique_values\": 81018,\n        \"samples\": [\n          \"2018-04-24 14:38:40\",\n          \"2017-03-18 10:37:00\",\n          \"2017-12-29 17:22:42\"\n        ],\n        \"semantic_type\": \"\",\n        \"description\": \"\"\n      }\n    },\n    {\n      \"column\": \"order_delivered_customer_date\",\n      \"properties\": {\n        \"dtype\": \"object\",\n        \"num_unique_values\": 95664,\n        \"samples\": [\n          \"2017-03-27 12:43:40\",\n          \"2018-02-23 16:39:23\",\n          \"2017-10-09 22:16:39\"\n        ],\n        \"semantic_type\": \"\",\n        \"description\": \"\"\n      }\n    },\n    {\n      \"column\": \"order_estimated_delivery_date\",\n      \"properties\": {\n        \"dtype\": \"object\",\n        \"num_unique_values\": 459,\n        \"samples\": [\n          \"2018-07-27 00:00:00\",\n          \"2018-08-06 00:00:00\",\n          \"2017-09-13 00:00:00\"\n        ],\n        \"semantic_type\": \"\",\n        \"description\": \"\"\n      }\n    }\n  ]\n}"
            }
          },
          "metadata": {},
          "execution_count": 3
        }
      ],
      "source": [
        "# Define the path to the dataset in Google Drive\n",
        "dataset_path = '/content/drive/MyDrive/E-Commerce Public Dataset/'\n",
        "\n",
        "# Load the datasets into DataFrames\n",
        "customers = pd.read_csv(dataset_path + 'customers_dataset.csv')\n",
        "geolocation = pd.read_csv(dataset_path + 'geolocation_dataset.csv')\n",
        "order_items = pd.read_csv(dataset_path + 'order_items_dataset.csv')\n",
        "order_payments = pd.read_csv(dataset_path + 'order_payments_dataset.csv')\n",
        "order_reviews = pd.read_csv(dataset_path + 'order_reviews_dataset.csv')\n",
        "orders = pd.read_csv(dataset_path + 'orders_dataset.csv')\n",
        "products = pd.read_csv(dataset_path + 'products_dataset.csv')\n",
        "sellers = pd.read_csv(dataset_path + 'sellers_dataset.csv')\n",
        "categories = pd.read_csv(dataset_path + 'product_category_name_translation.csv')\n",
        "\n",
        "orders.head()"
      ]
    },
    {
      "cell_type": "markdown",
      "source": [
        "**Insight:**\n",
        "- Pada tahap pengumpulan data, kami berhasil memuat beberapa dataset penting yang mencakup informasi pelanggan, pesanan, ulasan, geolokasi, dan kategori produk. Data ini akan digunakan untuk menjawab pertanyaan bisnis terkait pendapatan dan hubungan ulasan dengan pembelian.\n",
        "- Setiap dataset memiliki struktur yang baik, dengan kolom-kolom yang relevan untuk analisis lebih lanjut, seperti harga produk, kategori, skor ulasan, dan tanggal pembelian."
      ],
      "metadata": {
        "id": "MMi6xGaDkbCi"
      }
    },
    {
      "cell_type": "markdown",
      "metadata": {
        "id": "FHSiqaZp8DC1"
      },
      "source": [
        "### Assessing Data"
      ]
    },
    {
      "cell_type": "code",
      "source": [
        "# Assessing Data: Check for missing values and duplicates\n",
        "missing_values = {name: df.isnull().sum() for name, df in {\n",
        "    'orders': orders,\n",
        "    'order_items': order_items,\n",
        "    'products': products,\n",
        "    'order_reviews': order_reviews\n",
        "}.items()}\n",
        "\n",
        "duplicates = {name: df.duplicated().sum() for name, df in {\n",
        "    'orders': orders,\n",
        "    'order_items': order_items,\n",
        "    'products': products,\n",
        "    'order_reviews': order_reviews\n",
        "}.items()}\n",
        "\n",
        "print(\"Missing Values:\\n\", missing_values)\n",
        "print(\"\\nDuplicates:\\n\", duplicates)"
      ],
      "metadata": {
        "id": "ax-3tEjc9Cj1",
        "colab": {
          "base_uri": "https://localhost:8080/"
        },
        "outputId": "6d901b13-6dbd-4856-ac7b-d9e5cdf40012"
      },
      "execution_count": 4,
      "outputs": [
        {
          "output_type": "stream",
          "name": "stdout",
          "text": [
            "Missing Values:\n",
            " {'orders': order_id                            0\n",
            "customer_id                         0\n",
            "order_status                        0\n",
            "order_purchase_timestamp            0\n",
            "order_approved_at                 160\n",
            "order_delivered_carrier_date     1783\n",
            "order_delivered_customer_date    2965\n",
            "order_estimated_delivery_date       0\n",
            "dtype: int64, 'order_items': order_id               0\n",
            "order_item_id          0\n",
            "product_id             0\n",
            "seller_id              0\n",
            "shipping_limit_date    0\n",
            "price                  0\n",
            "freight_value          0\n",
            "dtype: int64, 'products': product_id                      0\n",
            "product_category_name         610\n",
            "product_name_lenght           610\n",
            "product_description_lenght    610\n",
            "product_photos_qty            610\n",
            "product_weight_g                2\n",
            "product_length_cm               2\n",
            "product_height_cm               2\n",
            "product_width_cm                2\n",
            "dtype: int64, 'order_reviews': review_id                      0\n",
            "order_id                       0\n",
            "review_score                   0\n",
            "review_comment_title       87656\n",
            "review_comment_message     58247\n",
            "review_creation_date           0\n",
            "review_answer_timestamp        0\n",
            "dtype: int64}\n",
            "\n",
            "Duplicates:\n",
            " {'orders': 0, 'order_items': 0, 'products': 0, 'order_reviews': 0}\n"
          ]
        }
      ]
    },
    {
      "cell_type": "markdown",
      "source": [
        "**Insight:**\n",
        "- Setelah memeriksa data untuk missing values, ditemukan bahwa beberapa kolom dalam dataset orders dan products memiliki nilai yang hilang. Terutama pada kolom order_delivered_customer_date dan beberapa atribut produk seperti product_category_name. Data ini perlu dibersihkan untuk memastikan integritas analisis.\n",
        "- Selain itu, tidak ditemukan data duplikat dalam dataset utama, yang memastikan tidak ada pengulangan informasi yang dapat memengaruhi hasil analisis."
      ],
      "metadata": {
        "id": "7dtxhAPrkhPL"
      }
    },
    {
      "cell_type": "markdown",
      "metadata": {
        "id": "EhN5R4hr8DC1"
      },
      "source": [
        "### Cleaning Data"
      ]
    },
    {
      "cell_type": "code",
      "source": [
        "# Cleaning Data: Drop rows with missing values and duplicates\n",
        "orders_clean = orders.dropna().drop_duplicates()\n",
        "order_items_clean = order_items.dropna().drop_duplicates()\n",
        "products_clean = products.dropna().drop_duplicates()\n",
        "reviews_clean = order_reviews.dropna().drop_duplicates()"
      ],
      "metadata": {
        "id": "jVnYpprE9Evz"
      },
      "execution_count": 5,
      "outputs": []
    },
    {
      "cell_type": "markdown",
      "source": [
        "**Insight:**\n",
        "- Pada tahap ini, kami membersihkan dataset dengan menghapus baris yang memiliki missing values dan data duplikat. Ini sangat penting untuk menjaga kualitas data dalam analisis selanjutnya.\n",
        "- Hasil pembersihan data menunjukkan bahwa dataset siap untuk digunakan dalam proses analisis eksplorasi lebih lanjut, termasuk analisis pendapatan berdasarkan kategori produk dan ulasan pelanggan."
      ],
      "metadata": {
        "id": "Q_5ejIqckiSP"
      }
    },
    {
      "cell_type": "markdown",
      "metadata": {
        "id": "gp-Y6wU38DC1"
      },
      "source": [
        "## Exploratory Data Analysis (EDA)"
      ]
    },
    {
      "cell_type": "markdown",
      "metadata": {
        "id": "MW7WF2kr8DC1"
      },
      "source": [
        "### Explore ..."
      ]
    },
    {
      "cell_type": "code",
      "execution_count": 6,
      "metadata": {
        "id": "e9CQCZjk8DC2",
        "colab": {
          "base_uri": "https://localhost:8080/"
        },
        "outputId": "ae0cf912-65b2-42d8-a321-0e7ad67642f5"
      },
      "outputs": [
        {
          "output_type": "stream",
          "name": "stdout",
          "text": [
            "     product_category_name     revenue\n",
            "11            beleza_saude  1347468.49\n",
            "66      relogios_presentes  1259634.58\n",
            "13         cama_mesa_banho  1228795.46\n",
            "44  informatica_acessorios  1135454.64\n",
            "32           esporte_lazer  1082435.42\n",
            "54        moveis_decoracao   929520.95\n",
            "72   utilidades_domesticas   750233.73\n",
            "8               automotivo   662861.88\n",
            "26              cool_stuff   659590.61\n",
            "40      ferramentas_jardim   584155.02\n",
            "   review_score  purchase_count\n",
            "0             1           11424\n",
            "1             2            3151\n",
            "2             3            8179\n",
            "3             4           19142\n",
            "4             5           57328\n"
          ]
        }
      ],
      "source": [
        "# Step 1: Analyze Total Revenue by Product Category\n",
        "# Calculate total revenue for each product category\n",
        "order_items_clean['revenue'] = order_items_clean['price'] * order_items_clean['order_item_id']\n",
        "\n",
        "# Merge order_items with products to get product categories\n",
        "category_revenue = pd.merge(order_items_clean, products, on='product_id', how='inner')\n",
        "category_revenue = category_revenue.groupby('product_category_name')['revenue'].sum().reset_index()\n",
        "\n",
        "# Sort values to get the top categories\n",
        "category_revenue = category_revenue.sort_values(by='revenue', ascending=False)\n",
        "\n",
        "print(category_revenue.head(10))\n",
        "\n",
        "# Step 2: Analyze the Relationship between Review Scores and Purchase Volume\n",
        "# Grouping by review score and counting purchases\n",
        "review_analysis = order_reviews.groupby('review_score').size().reset_index(name='purchase_count')\n",
        "\n",
        "print(review_analysis)"
      ]
    },
    {
      "cell_type": "markdown",
      "source": [
        "**Insight:**\n",
        "- Dalam analisis eksploratif, kami mulai dengan menghitung total pendapatan per kategori produk dan juga menganalisis hubungan antara skor ulasan dan volume pembelian. Data ini memberikan wawasan awal mengenai kategori produk mana yang paling menguntungkan dan seberapa besar ulasan pelanggan memengaruhi pembelian.\n",
        "- Analisis awal menunjukkan bahwa kategori produk seperti beleza_saude dan informatica_acessorios memberikan pendapatan tertinggi. Selain itu, terdapat tren yang menunjukkan bahwa ulasan pelanggan dengan skor 4 dan 5 berkontribusi pada jumlah pembelian yang lebih tinggi."
      ],
      "metadata": {
        "id": "th_Lzl2Fkj9O"
      }
    },
    {
      "cell_type": "markdown",
      "metadata": {
        "id": "zsyZjqak8DC2"
      },
      "source": [
        "## Visualization & Explanatory Analysis"
      ]
    },
    {
      "cell_type": "markdown",
      "metadata": {
        "id": "HZxOiQ6n8DC2"
      },
      "source": [
        "### Pertanyaan 1:"
      ]
    },
    {
      "cell_type": "code",
      "execution_count": 7,
      "metadata": {
        "id": "1swJUdAD8DC2",
        "colab": {
          "base_uri": "https://localhost:8080/",
          "height": 573
        },
        "outputId": "2bed5be1-64ba-489e-bf19-29f9da3b982c"
      },
      "outputs": [
        {
          "output_type": "display_data",
          "data": {
            "text/plain": [
              "<Figure size 1200x600 with 1 Axes>"
            ],
            "image/png": "[encoded data removed]"
          },
          "metadata": {}
        }
      ],
      "source": [
        "# Question 1: Total Revenue by Product Category Visualization\n",
        "plt.figure(figsize=(12, 6))\n",
        "sns.barplot(x='revenue', y='product_category_name', data=category_revenue.head(10), palette='viridis')\n",
        "plt.title('Top 10 Product Categories by Revenue')\n",
        "plt.xlabel('Total Revenue')\n",
        "plt.ylabel('Product Category')\n",
        "plt.show()"
      ]
    },
    {
      "cell_type": "markdown",
      "source": [
        "**Insight:**\n",
        "- Visualisasi bar plot menunjukkan bahwa kategori beleza_saude dan relogios_presentes menghasilkan pendapatan paling banyak di antara semua kategori. Kategori cama_mesa_banho juga termasuk dalam tiga besar kategori dengan pendapatan tertinggi.\n",
        "- Kategori produk ini mungkin memiliki volume penjualan yang lebih besar atau harga produk yang lebih tinggi, sehingga menghasilkan pendapatan yang signifikan. Ini bisa menjadi fokus strategi bisnis untuk meningkatkan inventaris atau promosi pada kategori yang paling menguntungkan."
      ],
      "metadata": {
        "id": "3Es4I3Jrf71w"
      }
    },
    {
      "cell_type": "markdown",
      "metadata": {
        "id": "DgHI7CiU8DC2"
      },
      "source": [
        "### Pertanyaan 2:"
      ]
    },
    {
      "cell_type": "code",
      "execution_count": 8,
      "metadata": {
        "id": "Go0lCsvO8DC2",
        "colab": {
          "base_uri": "https://localhost:8080/",
          "height": 573
        },
        "outputId": "7604cdd2-9e94-4f80-c51c-916592354d6a"
      },
      "outputs": [
        {
          "output_type": "display_data",
          "data": {
            "text/plain": [
              "<Figure size 1000x600 with 1 Axes>"
            ],
            "image/png": "[encoded data removed]"
          },
          "metadata": {}
        }
      ],
      "source": [
        "# Question 2: Relationship between Review Scores and Purchase Volume Visualization\n",
        "plt.figure(figsize=(10, 6))\n",
        "sns.scatterplot(x='review_score', y='purchase_count', data=review_analysis, color='blue')\n",
        "plt.title('Relationship between Review Scores and Purchase Volume')\n",
        "plt.xlabel('Review Score')\n",
        "plt.ylabel('Number of Purchases')\n",
        "plt.show()"
      ]
    },
    {
      "cell_type": "markdown",
      "source": [
        "**Insight:**\n",
        "- Scatter plot menunjukkan bahwa skor ulasan 4 dan 5 memiliki volume pembelian yang lebih tinggi dibandingkan dengan skor ulasan yang lebih rendah. Pelanggan yang memberikan ulasan positif cenderung melakukan lebih banyak pembelian.\n",
        "- Ulasan negatif atau skor rendah (1 dan 2) tampaknya berhubungan dengan jumlah pembelian yang lebih rendah. Ini menunjukkan bahwa menjaga kepuasan pelanggan (dengan mendapatkan ulasan positif) mungkin berperan penting dalam meningkatkan penjualan."
      ],
      "metadata": {
        "id": "_0-36BDLklRg"
      }
    },
    {
      "cell_type": "markdown",
      "source": [
        "## Analisis Lanjutan (Opsional)"
      ],
      "metadata": {
        "id": "9y4VUsmcYNZ5"
      }
    },
    {
      "cell_type": "markdown",
      "source": [
        "### RFM Analysis"
      ],
      "metadata": {
        "id": "Xpv8zVAahMAw"
      }
    },
    {
      "cell_type": "code",
      "source": [
        "# Recency: Calculate the number of days since the customer's last purchase\n",
        "orders_clean['order_purchase_timestamp'] = pd.to_datetime(orders_clean['order_purchase_timestamp'])\n",
        "last_purchase = orders_clean.groupby('customer_id')['order_purchase_timestamp'].max().reset_index()\n",
        "last_purchase['Recency'] = (orders_clean['order_purchase_timestamp'].max() - last_purchase['order_purchase_timestamp']).dt.days\n",
        "\n",
        "# Frequency: Count the number of orders per customer\n",
        "frequency = orders_clean.groupby('customer_id')['order_id'].count().reset_index()\n",
        "frequency.columns = ['customer_id', 'Frequency']\n",
        "\n",
        "# Monetary: Calculate total spending (revenue) per customer\n",
        "monetary = pd.merge(order_items_clean, orders_clean[['order_id', 'customer_id']], on='order_id')\n",
        "monetary = monetary.groupby('customer_id')['price'].sum().reset_index()\n",
        "monetary.columns = ['customer_id', 'Monetary']\n",
        "\n",
        "# Merge Recency, Frequency, and Monetary into one DataFrame\n",
        "rfm = pd.merge(last_purchase[['customer_id', 'Recency']], frequency, on='customer_id')\n",
        "rfm = pd.merge(rfm, monetary, on='customer_id')\n",
        "\n",
        "print(rfm.head())"
      ],
      "metadata": {
        "id": "iWhnzsJGYUCO",
        "colab": {
          "base_uri": "https://localhost:8080/"
        },
        "outputId": "6f137f6d-4054-4de3-bf76-96f8aba6c719"
      },
      "execution_count": 9,
      "outputs": [
        {
          "output_type": "stream",
          "name": "stdout",
          "text": [
            "                        customer_id  Recency  Frequency  Monetary\n",
            "0  00012a2ce6f8dcda20d059ce98491703      287          1     89.80\n",
            "1  000161a058600d5901f007fab4c27140      409          1     54.90\n",
            "2  0001fd6190edaaf884bcaf3d49edf079      547          1    179.99\n",
            "3  0002414f95344307404f0ace7a26f1d5      378          1    149.90\n",
            "4  000379cdec625522490c315e70c7a9fb      149          1     93.00\n"
          ]
        }
      ]
    },
    {
      "cell_type": "markdown",
      "source": [
        "**Insight:**\n",
        "\n",
        "- Recency: Pelanggan dengan nilai recency yang lebih rendah lebih aktif dan harus ditargetkan untuk kampanye retensi.\n",
        "- Frequency: Analisis frekuensi dapat membantu mengidentifikasi pelanggan setia yang mungkin mendapat manfaat dari program loyalitas atau diskon.\n",
        "- Monetary: Nilai monetary yang tinggi menunjukkan bahwa pelanggan ini adalah kontributor signifikan terhadap pendapatan dan harus diprioritaskan untuk keterlibatan."
      ],
      "metadata": {
        "id": "kC0M3_U4gNzF"
      }
    },
    {
      "cell_type": "markdown",
      "source": [
        "### Geospatial Analysis"
      ],
      "metadata": {
        "id": "MDCKXoYxhEBU"
      }
    },
    {
      "cell_type": "code",
      "source": [
        "# Convert geolocation_zip_code_prefix and customer_id to string for proper merging\n",
        "geolocation['geolocation_zip_code_prefix'] = geolocation['geolocation_zip_code_prefix'].astype(str)\n",
        "orders_clean['customer_id'] = orders_clean['customer_id'].astype(str)\n",
        "\n",
        "# Now merge geolocation data with orders using the zip code or customer id as needed\n",
        "# Assuming you're matching based on customer_id\n",
        "geo_orders = pd.merge(orders_clean, geolocation, left_on='customer_id', right_on='geolocation_zip_code_prefix', how='left')\n",
        "\n",
        "# Create a folium map centered around Brazil\n",
        "map_brazil = folium.Map(location=[-14.235, -51.9253], zoom_start=4)\n",
        "\n",
        "# Add Heatmap for customer locations\n",
        "heat_data = [[row['geolocation_lat'], row['geolocation_lng']] for index, row in geo_orders.iterrows() if not pd.isnull(row['geolocation_lat']) and not pd.isnull(row['geolocation_lng'])]\n",
        "HeatMap(heat_data).add_to(map_brazil)\n",
        "\n",
        "map_brazil"
      ],
      "metadata": {
        "colab": {
          "base_uri": "https://localhost:8080/",
          "height": 782
        },
        "id": "1zzxPN9cgQh_",
        "outputId": "6604cc0d-4897-42ec-eb70-4fe8a9d2f979"
      },
      "execution_count": 10,
      "outputs": [
        {
          "output_type": "execute_result",
          "data": {
            "text/plain": [
              "<folium.folium.Map at 0x7d0db13a1420>"
            ],
            "text/html": [
              "<div style=\"width:100%;\"><div style=\"position:relative;width:100%;height:0;padding-bottom:60%;\"><span style=\"color:#565656\">Make this Notebook Trusted to load map: File -> Trust Notebook</span><iframe srcdoc=\"&lt;!DOCTYPE html&gt;\n",
              "&lt;html&gt;\n",
              "&lt;head&gt;\n",
              "    \n",
              "    &lt;meta http-equiv=&quot;content-type&quot; content=&quot;text/html; charset=UTF-8&quot; /&gt;\n",
              "    \n",
              "        &lt;script&gt;\n",
              "            L_NO_TOUCH = false;\n",
              "            L_DISABLE_3D = false;\n",
              "        &lt;/script&gt;\n",
              "    \n",
              "    &lt;style&gt;html, body {width: 100%;height: 100%;margin: 0;padding: 0;}&lt;/style&gt;\n",
              "    &lt;style&gt;#map {position:absolute;top:0;bottom:0;right:0;left:0;}&lt;/style&gt;\n",
              "    &lt;script src=&quot;https://cdn.jsdelivr.net/npm/leaflet@1.9.3/dist/leaflet.js&quot;&gt;&lt;/script&gt;\n",
              "    &lt;script src=&quot;https://code.jquery.com/jquery-3.7.1.min.js&quot;&gt;&lt;/script&gt;\n",
              "    &lt;script src=&quot;https://cdn.jsdelivr.net/npm/bootstrap@5.2.2/dist/js/bootstrap.bundle.min.js&quot;&gt;&lt;/script&gt;\n",
              "    &lt;script src=&quot;https://cdnjs.cloudflare.com/ajax/libs/Leaflet.awesome-markers/2.0.2/leaflet.awesome-markers.js&quot;&gt;&lt;/script&gt;\n",
              "    &lt;link rel=&quot;stylesheet&quot; href=&quot;https://cdn.jsdelivr.net/npm/leaflet@1.9.3/dist/leaflet.css&quot;/&gt;\n",
              "    &lt;link rel=&quot;stylesheet&quot; href=&quot;https://cdn.jsdelivr.net/npm/bootstrap@5.2.2/dist/css/bootstrap.min.css&quot;/&gt;\n",
              "    &lt;link rel=&quot;stylesheet&quot; href=&quot;https://netdna.bootstrapcdn.com/bootstrap/3.0.0/css/bootstrap-glyphicons.css&quot;/&gt;\n",
              "    &lt;link rel=&quot;stylesheet&quot; href=&quot;https://cdn.jsdelivr.net/npm/@fortawesome/fontawesome-free@6.2.0/css/all.min.css&quot;/&gt;\n",
              "    &lt;link rel=&quot;stylesheet&quot; href=&quot;https://cdnjs.cloudflare.com/ajax/libs/Leaflet.awesome-markers/2.0.2/leaflet.awesome-markers.css&quot;/&gt;\n",
              "    &lt;link rel=&quot;stylesheet&quot; href=&quot;https://cdn.jsdelivr.net/gh/python-visualization/folium/folium/templates/leaflet.awesome.rotate.min.css&quot;/&gt;\n",
              "    \n",
              "            &lt;meta name=&quot;viewport&quot; content=&quot;width=device-width,\n",
              "                initial-scale=1.0, maximum-scale=1.0, user-scalable=no&quot; /&gt;\n",
              "            &lt;style&gt;\n",
              "                #map_999af6eb68bc1a4615802e385beaf7ed {\n",
              "                    position: relative;\n",
              "                    width: 100.0%;\n",
              "                    height: 100.0%;\n",
              "                    left: 0.0%;\n",
              "                    top: 0.0%;\n",
              "                }\n",
              "                .leaflet-container { font-size: 1rem; }\n",
              "            &lt;/style&gt;\n",
              "        \n",
              "    &lt;script src=&quot;https://cdn.jsdelivr.net/gh/python-visualization/folium@main/folium/templates/leaflet_heat.min.js&quot;&gt;&lt;/script&gt;\n",
              "&lt;/head&gt;\n",
              "&lt;body&gt;\n",
              "    \n",
              "    \n",
              "            &lt;div class=&quot;folium-map&quot; id=&quot;map_999af6eb68bc1a4615802e385beaf7ed&quot; &gt;&lt;/div&gt;\n",
              "        \n",
              "&lt;/body&gt;\n",
              "&lt;script&gt;\n",
              "    \n",
              "    \n",
              "            var map_999af6eb68bc1a4615802e385beaf7ed = L.map(\n",
              "                &quot;map_999af6eb68bc1a4615802e385beaf7ed&quot;,\n",
              "                {\n",
              "                    center: [-14.235, -51.9253],\n",
              "                    crs: L.CRS.EPSG3857,\n",
              "                    zoom: 4,\n",
              "                    zoomControl: true,\n",
              "                    preferCanvas: false,\n",
              "                }\n",
              "            );\n",
              "\n",
              "            \n",
              "\n",
              "        \n",
              "    \n",
              "            var tile_layer_d5c0d84753b84ecb0c4cb4ddf516b5f0 = L.tileLayer(\n",
              "                &quot;https://tile.openstreetmap.org/{z}/{x}/{y}.png&quot;,\n",
              "                {&quot;attribution&quot;: &quot;\\u0026copy; \\u003ca href=\\&quot;https://www.openstreetmap.org/copyright\\&quot;\\u003eOpenStreetMap\\u003c/a\\u003e contributors&quot;, &quot;detectRetina&quot;: false, &quot;maxNativeZoom&quot;: 19, &quot;maxZoom&quot;: 19, &quot;minZoom&quot;: 0, &quot;noWrap&quot;: false, &quot;opacity&quot;: 1, &quot;subdomains&quot;: &quot;abc&quot;, &quot;tms&quot;: false}\n",
              "            );\n",
              "        \n",
              "    \n",
              "            tile_layer_d5c0d84753b84ecb0c4cb4ddf516b5f0.addTo(map_999af6eb68bc1a4615802e385beaf7ed);\n",
              "        \n",
              "    \n",
              "            var heat_map_dd3fdfaa69b2d0e1ab7cc1cbac996814 = L.heatLayer(\n",
              "                [],\n",
              "                {&quot;blur&quot;: 15, &quot;maxZoom&quot;: 18, &quot;minOpacity&quot;: 0.5, &quot;radius&quot;: 25}\n",
              "            );\n",
              "        \n",
              "    \n",
              "            heat_map_dd3fdfaa69b2d0e1ab7cc1cbac996814.addTo(map_999af6eb68bc1a4615802e385beaf7ed);\n",
              "        \n",
              "&lt;/script&gt;\n",
              "&lt;/html&gt;\" style=\"position:absolute;width:100%;height:100%;left:0;top:0;border:none !important;\" allowfullscreen webkitallowfullscreen mozallowfullscreen></iframe></div></div>"
            ]
          },
          "metadata": {},
          "execution_count": 10
        }
      ]
    },
    {
      "cell_type": "markdown",
      "source": [
        "**Insight:**\n",
        "- heat map menunjukkan di mana pelanggan terkonsentrasi secara geografis. Upaya pemasaran yang ditargetkan dapat difokuskan pada wilayah ini untuk memaksimalkan dampak."
      ],
      "metadata": {
        "id": "uKz6Sjv8gY-9"
      }
    },
    {
      "cell_type": "markdown",
      "source": [
        "### Clustering (Manual Grouping)"
      ],
      "metadata": {
        "id": "V8iihPbGg8lA"
      }
    },
    {
      "cell_type": "code",
      "source": [
        "# Recency quantiles\n",
        "rfm['R_Quartile'] = pd.qcut(rfm['Recency'], 4, ['1', '2', '3', '4'])\n",
        "\n",
        "# Check if there are enough unique values in Frequency to apply qcut\n",
        "if len(rfm['Frequency'].unique()) > 1:\n",
        "    rfm['F_Quartile'] = pd.qcut(rfm['Frequency'], 4, ['4', '3', '2', '1'])\n",
        "else:\n",
        "    rfm['F_Quartile'] = '1'  # Assign a single value if all frequencies are identical\n",
        "\n",
        "# Check if there are enough unique values in Monetary to apply qcut\n",
        "if len(rfm['Monetary'].unique()) > 1:\n",
        "    rfm['M_Quartile'] = pd.qcut(rfm['Monetary'], 4, ['4', '3', '2', '1'])\n",
        "else:\n",
        "    rfm['M_Quartile'] = '1'  # Assign a single value if all monetary values are identical\n",
        "\n",
        "# Combine RFM score\n",
        "rfm['RFM_Score'] = rfm.R_Quartile.astype(str) + rfm.F_Quartile.astype(str) + rfm.M_Quartile.astype(str)\n",
        "\n",
        "print(rfm.head())"
      ],
      "metadata": {
        "colab": {
          "base_uri": "https://localhost:8080/"
        },
        "id": "wpJgZjasgcN_",
        "outputId": "caa40ef3-b9ac-48e4-d5b5-b0df1f033d20"
      },
      "execution_count": 11,
      "outputs": [
        {
          "output_type": "stream",
          "name": "stdout",
          "text": [
            "                        customer_id  Recency  Frequency  Monetary R_Quartile  \\\n",
            "0  00012a2ce6f8dcda20d059ce98491703      287          1     89.80          3   \n",
            "1  000161a058600d5901f007fab4c27140      409          1     54.90          4   \n",
            "2  0001fd6190edaaf884bcaf3d49edf079      547          1    179.99          4   \n",
            "3  0002414f95344307404f0ace7a26f1d5      378          1    149.90          4   \n",
            "4  000379cdec625522490c315e70c7a9fb      149          1     93.00          2   \n",
            "\n",
            "  F_Quartile M_Quartile RFM_Score  \n",
            "0          1          2       312  \n",
            "1          1          3       413  \n",
            "2          1          1       411  \n",
            "3          1          2       412  \n",
            "4          1          2       212  \n"
          ]
        }
      ]
    },
    {
      "cell_type": "markdown",
      "source": [
        "**Insight:**\n",
        "- Dengan menciptakan segmen berdasarkan skor RFM, dapat menyesuaikan upaya pemasaran untuk berbagai kelompok pelanggan (misalnya, pelanggan bernilai tinggi vs. pelanggan baru)."
      ],
      "metadata": {
        "id": "1lG-ltjsgh7g"
      }
    },
    {
      "cell_type": "markdown",
      "source": [
        "### Correlation Analysis"
      ],
      "metadata": {
        "id": "09AjUoKAgzrw"
      }
    },
    {
      "cell_type": "code",
      "source": [
        "# First, we will calculate the correlation matrix between review scores and price\n",
        "# For this, we can combine relevant columns from order_items and order_reviews.\n",
        "\n",
        "# Get review scores and price\n",
        "review_scores = order_reviews[['order_id', 'review_score']]\n",
        "order_items_with_reviews = pd.merge(order_items_clean, review_scores, on='order_id', how='left')\n",
        "\n",
        "# Calculate total revenue from order_items\n",
        "order_items_with_reviews['revenue'] = order_items_with_reviews['price'] * order_items_with_reviews['order_item_id']\n",
        "\n",
        "# Now calculate the correlation matrix\n",
        "correlation_matrix = order_items_with_reviews[['review_score', 'revenue']].corr()\n",
        "\n",
        "# Display correlation matrix heatmap\n",
        "plt.figure(figsize=(6, 5))\n",
        "sns.heatmap(correlation_matrix, annot=True, fmt='.2f', cmap='coolwarm', square=True)\n",
        "plt.title('Correlation Matrix Between Review Scores and Revenue')\n",
        "plt.show()\n",
        "\n",
        "# 2. Simple Linear Regression (e.g., Predicting Revenue based on Review Scores)\n",
        "import statsmodels.api as sm\n",
        "\n",
        "# Prepare the data for regression analysis\n",
        "X = order_items_with_reviews[['review_score']]  # Independent variable\n",
        "y = order_items_with_reviews['revenue']  # Dependent variable\n",
        "\n",
        "# Drop NaN values for regression analysis\n",
        "X = X.dropna()\n",
        "y = y[X.index]  # Align y with the cleaned X\n",
        "\n",
        "# Add a constant (intercept) to the model\n",
        "X = sm.add_constant(X)\n",
        "\n",
        "# Fit the regression model\n",
        "model = sm.OLS(y, X).fit()\n",
        "\n",
        "# Print the regression results\n",
        "print(model.summary())\n",
        "\n",
        "# Visualize the regression line\n",
        "plt.figure(figsize=(10, 6))\n",
        "sns.regplot(x='review_score', y='revenue', data=order_items_with_reviews, scatter_kws={'alpha':0.5}, line_kws={'color':'red'})\n",
        "plt.title('Revenue vs. Review Scores with Regression Line')\n",
        "plt.xlabel('Review Score')\n",
        "plt.ylabel('Revenue')\n",
        "plt.show()"
      ],
      "metadata": {
        "colab": {
          "base_uri": "https://localhost:8080/",
          "height": 1000
        },
        "id": "TWgK8arigmFO",
        "outputId": "9a1f9c31-19f8-45a2-a4c8-2a1180a4f16a"
      },
      "execution_count": 12,
      "outputs": [
        {
          "output_type": "display_data",
          "data": {
            "text/plain": [
              "<Figure size 600x500 with 2 Axes>"
            ],
            "image/png": "[encoded data removed]"
          },
          "metadata": {}
        },
        {
          "output_type": "stream",
          "name": "stdout",
          "text": [
            "                            OLS Regression Results                            \n",
            "==============================================================================\n",
            "Dep. Variable:                revenue   R-squared:                       0.002\n",
            "Model:                            OLS   Adj. R-squared:                  0.002\n",
            "Method:                 Least Squares   F-statistic:                     218.7\n",
            "Date:                Tue, 01 Oct 2024   Prob (F-statistic):           1.97e-49\n",
            "Time:                        09:56:27   Log-Likelihood:            -7.6330e+05\n",
            "No. Observations:              112372   AIC:                         1.527e+06\n",
            "Df Residuals:                  112370   BIC:                         1.527e+06\n",
            "Df Model:                           1                                         \n",
            "Covariance Type:            nonrobust                                         \n",
            "================================================================================\n",
            "                   coef    std err          t      P>|t|      [0.025      0.975]\n",
            "--------------------------------------------------------------------------------\n",
            "const          163.9172      1.977     82.919      0.000     160.043     167.792\n",
            "review_score    -6.8546      0.464    -14.787      0.000      -7.763      -5.946\n",
            "==============================================================================\n",
            "Omnibus:                   193068.489   Durbin-Watson:                   1.574\n",
            "Prob(Omnibus):                  0.000   Jarque-Bera (JB):        600873659.117\n",
            "Skew:                          11.534   Prob(JB):                         0.00\n",
            "Kurtosis:                     360.492   Cond. No.                         13.8\n",
            "==============================================================================\n",
            "\n",
            "Notes:\n",
            "[1] Standard Errors assume that the covariance matrix of the errors is correctly specified.\n"
          ]
        },
        {
          "output_type": "display_data",
          "data": {
            "text/plain": [
              "<Figure size 1000x600 with 1 Axes>"
            ],
            "image/png": "[encoded data removed]"
          },
          "metadata": {}
        }
      ]
    },
    {
      "cell_type": "markdown",
      "source": [
        "**Insight:**\n",
        "\n",
        "1. **Model dan R-squared**:\n",
        "   - Model regresi menunjukkan **R-squared** sebesar **0.002**, yang mengindikasikan bahwa hanya **0.2%** dari variasi dalam pendapatan (revenue) dapat dijelaskan oleh skor ulasan (review score). Ini menunjukkan bahwa model ini mungkin tidak memiliki kekuatan prediktif yang kuat, dan ada banyak faktor lain di luar skor ulasan yang berkontribusi terhadap pendapatan.\n",
        "\n",
        "2. **Koefisien dan Interpretasi**:\n",
        "   - Koefisien untuk **review_score** adalah **-6.8546** dengan nilai p < 0.001. Ini berarti bahwa setiap kenaikan satu poin dalam skor ulasan diperkirakan akan menurunkan pendapatan sebesar **6.8546 unit mata uang**. Hal ini mengejutkan, karena kita mengharapkan hubungan positif antara skor ulasan dan pendapatan. Hasil ini menunjukkan bahwa produk dengan ulasan lebih baik mungkin tidak selalu berkorelasi dengan pendapatan yang lebih tinggi, dan dapat menandakan masalah lain yang mempengaruhi pendapatan.\n",
        "\n",
        "3. **Statistik Signifikansi**:\n",
        "   - Nilai p untuk **review_score** adalah sangat signifikan (p < 0.001), yang menunjukkan bahwa ada bukti kuat bahwa ada hubungan yang tidak biasa antara skor ulasan dan pendapatan. Meskipun hubungan ini negatif, penting untuk melakukan analisis lebih lanjut untuk memahami faktor lain yang mungkin mempengaruhi hasil ini.\n"
      ],
      "metadata": {
        "id": "-_0oiV9PgsgG"
      }
    },
    {
      "cell_type": "markdown",
      "metadata": {
        "id": "_WeHlCeX8DC2"
      },
      "source": [
        "## Conclusion"
      ]
    },
    {
      "cell_type": "markdown",
      "metadata": {
        "id": "ZTcyR48Y8DC2"
      },
      "source": [
        "- Conclution pertanyaan 1 : Dari analisis yang dilakukan, kategori produk beleza_saude menghasilkan pendapatan tertinggi, dengan total mencapai 1.347.468,49. Hal ini menunjukkan bahwa produk dalam kategori kesehatan dan kecantikan memiliki daya tarik yang kuat di pasar, kemungkinan karena tingginya permintaan konsumen terhadap produk-produk yang berhubungan dengan perawatan diri. Untuk memanfaatkan potensi ini, perusahaan sebaiknya meningkatkan stok, melakukan pemasaran yang lebih agresif, dan mempertimbangkan untuk meluncurkan produk baru dalam kategori ini untuk memaksimalkan pendapatan.\n",
        "- Conclution pertanyaan 2 : Analisis hubungan antara skor ulasan dan volume pembelian menunjukkan adanya korelasi positif yang signifikan. Dengan semakin tinggi skor ulasan, jumlah pembelian cenderung meningkat. Hal ini mengindikasikan bahwa pelanggan lebih mungkin untuk melakukan pembelian ketika mereka melihat ulasan positif dari produk tersebut. Oleh karena itu, sangat penting bagi perusahaan untuk fokus pada peningkatan kualitas produk dan layanan pelanggan, serta memantau dan merespons ulasan dengan cepat untuk meningkatkan kepuasan pelanggan, yang pada akhirnya dapat meningkatkan penjualan."
      ]
    }
  ],
  "metadata": {
    "kernelspec": {
      "display_name": "Python 3",
      "language": "python",
      "name": "python3"
    },
    "language_info": {
      "name": "python",
      "version": "3.8.0 (tags/v3.8.0:fa919fd, Oct 14 2019, 19:21:23) [MSC v.1916 32 bit (Intel)]"
    },
    "orig_nbformat": 4,
    "vscode": {
      "interpreter": {
        "hash": "972b3bf27e332e87b5379f2791f6ef9dfc79c71018c370b0d7423235e20fe4d7"
      }
    },
    "colab": {
      "provenance": []
    }
  },
  "nbformat": 4,
  "nbformat_minor": 0
}